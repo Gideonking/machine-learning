{
 "cells": [
  {
   "cell_type": "code",
   "execution_count": 525,
   "metadata": {},
   "outputs": [],
   "source": [
    "import pandas as pd\n",
    "import tflearn\n",
    "import numpy as np"
   ]
  },
  {
   "cell_type": "code",
   "execution_count": 556,
   "metadata": {},
   "outputs": [
    {
     "name": "stdout",
     "output_type": "stream",
     "text": [
      "(699, 9)\n",
      "[[2 2 2 2 2 4 2 2 2 2 2 2 4 2 4 4 2 2 4 2 4 4 2 4 2 4 2 2 2 2 2 2 4 2 2 2 4\n",
      "  2 4 4 2 4 4 4 4 2 4 2 2 4 4 4 4 4 4 4 4 4 4 4 4 2 4 4 2 4 2 4 4 2 2 4 2 4\n",
      "  4 2 2 2 2 2 2 2 2 2 4 4 4 4 2 2 2 2 2 2 2 2 2 2 4 4 4 4 2 4 4 4 4 4 2 4 2\n",
      "  4 4 4 2 2 2 4 2 2 2 2 4 4 4 2 4 2 4 2 2 2 4 2 2 2 2 2 2 2 2 2 4 2 2 2 4 2\n",
      "  2 4 2 4 4 2 2 4 2 2 2 4 4 2 2 2 2 2 4 4 2 2 2 2 2 4 4 4 2 4 2 4 2 2 2 4 4\n",
      "  2 4 4 4 2 4 4 2 2 2 2 2 2 2 2 4 4 2 2 2 4 4 2 2 2 4 4 2 4 4 4 2 2 4 2 2 4\n",
      "  4 4 4 2 4 4 2 4 4 4 2 4 2 2 4 4 4 4 2 2 2 2 2 2 4 4 2 2 2 4 2 4 4 4 2 2 2\n",
      "  2 4 4 4 4 4 2 4 4 4 2 4 2 4 4 2 2 2 2 2 4 2 2 4 4 4 4 4 2 4 4 2 2 4 4 2 4\n",
      "  2 2 2 4 4 2 4 2 4 4 2 2 4 2 2 2 4 2 2 2 4 4 2 2 4 2 2 4 2 2 4 2 4 4 4 2 2\n",
      "  4 4 2 4 2 2 4 4 2 2 2 4 2 2 2 4 4 2 2 2 4 2 2 4 4 4 4 4 4 2 2 2 2 4 4 2 2\n",
      "  2 2 2 2 2 2 2 2 2 2 2 4 2 2 2 2 4 2 2 2 2 4 2 2 2 2 2 2 2 2 4 2 2 2 2 2 2\n",
      "  2 2 2 2 2 4 2 4 2 4 2 2 2 2 4 2 2 2 4 2 4 2 2 2 2 2 2 2 4 4 2 2 2 4 2 2 2\n",
      "  2 2 2 2 2 4 2 2 2 4 2 4 4 4 2 2 2 2 2 2 2 4 4 4 2 2 2 2 2 2 2 2 2 2 2 4 2\n",
      "  2 4 4 2 2 2 4 4 4 2 4 2 4 2 2 2 2 2 2 2 2 2 2 2 2 4 2 2 2 2 2 2 2 4 4 2 2\n",
      "  2 4 2 2 4 4 2 2 2 2 2 2 4 2 2 2 2 2 2 2 2 2 2 2 2 2 2 2 4 2 2 4 2 2 2 2 2\n",
      "  2 2 2 2 2 2 2 2 2 2 4 2 2 4 4 4 4 2 2 4 2 2 2 2 2 2 4 4 2 2 2 4 2 4 2 4 4\n",
      "  4 2 4 2 2 2 2 2 2 2 2 4 4 4 2 2 4 2 4 4 4 2 2 2 2 2 2 2 2 2 2 2 2 2 4 2 2\n",
      "  2 2 2 2 4 2 2 4 2 2 2 2 2 2 2 2 2 2 2 4 2 2 2 2 2 2 2 2 2 4 2 2 2 2 2 2 2\n",
      "  2 2 4 4 4 2 2 2 2 2 2 2 2 2 4 4 2 2 2 2 2 2 2 2 2 4 2 2 2 2 4 4 4]]\n"
     ]
    }
   ],
   "source": [
    "# Data loading and Cleaning\n",
    "from tflearn.data_utils import load_csv \n",
    "# data, labels = load_csv('breast-cancer-wisconsin.data.csv')\n",
    "\n",
    "data = pd.read_csv('breast-cancer-wisconsin.data.csv')\n",
    "X = np.array(data.drop(['id','cancer'],1))\n",
    "y = np.array(data['cancer'])\n",
    "\n",
    "def data_preparation(mydata):\n",
    "#   remove first columns (id columns) from each feature data\n",
    "#     for item in mydata:\n",
    "#         item.pop(0)\n",
    "        \n",
    "#   Replace missinng data (as denoted by '?') with -99999 (represented as an outlier)\n",
    "    for item in mydata:\n",
    "        for i in range(0,len(item)):\n",
    "            if item[i] == '?':\n",
    "                item[i] = -99999\n",
    "                \n",
    "    return np.array(mydata, dtype = np.float32)\n",
    "\n",
    "X = data_preparation(X)\n",
    "print(X.shape)\n",
    "print(y.reshape(-1,len(y)))\n",
    "# # Build Neural Network\n",
    "# net = tflearn.input_data(shape=[None, 6])\n",
    "# net = tflearn.fully_connected(net, 24)\n",
    "# net = tflearn.fully_connected(net, 24)\n",
    "# net = tflearn.fully_connected(net, 2, activation='softmax')\n",
    "# net = tflearn.regression(net)\n",
    "\n",
    "# # # Define Model\n",
    "# model = tflearn.DNN(net, tensorboard_verbose=3)\n",
    "    \n",
    "# # # fit Model\n",
    "# model.fit(X, y, n_epoch=15, batch_size=16, show_metric=True)"
   ]
  },
  {
   "cell_type": "code",
   "execution_count": null,
   "metadata": {},
   "outputs": [],
   "source": []
  }
 ],
 "metadata": {
  "kernelspec": {
   "display_name": "Python 3",
   "language": "python",
   "name": "python3"
  },
  "language_info": {
   "codemirror_mode": {
    "name": "ipython",
    "version": 3
   },
   "file_extension": ".py",
   "mimetype": "text/x-python",
   "name": "python",
   "nbconvert_exporter": "python",
   "pygments_lexer": "ipython3",
   "version": "3.5.2"
  }
 },
 "nbformat": 4,
 "nbformat_minor": 2
}
