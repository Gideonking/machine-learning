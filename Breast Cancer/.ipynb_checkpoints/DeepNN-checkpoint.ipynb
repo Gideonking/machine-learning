{
 "cells": [
  {
   "cell_type": "code",
   "execution_count": 483,
   "metadata": {},
   "outputs": [],
   "source": [
    "import pandas as pd\n",
    "import tflearn\n",
    "import numpy as np"
   ]
  },
  {
   "cell_type": "code",
   "execution_count": 485,
   "metadata": {},
   "outputs": [],
   "source": [
    "# Data loading and Cleaning\n",
    "from tflearn.data_utils import load_csv \n",
    "data, labels = load_csv('breast-cancer-wisconsin.data.txt', target_column=10, categorical_labels=False, n_classes=2)\n",
    "\n",
    "def data_preparation(mydata):\n",
    "#   remove first columns (id columns) from each feature data\n",
    "    for item in mydata:\n",
    "        item.pop(0)\n",
    "        \n",
    "#   Replace missinng data (as denoted by '?') with -99999 (represented as an outlier)\n",
    "    for item in mydata:\n",
    "        for i in range(0,len(item)):\n",
    "            if item[i] == '?':\n",
    "                item[i] = -99999\n",
    "                \n",
    "    return np.array(mydata, dtype=np.float32)\n",
    "\n",
    "data = data_preparation(data)\n",
    "\n",
    "# Build Neural Network\n",
    "net = tflearn.input_data(shape=[None, 6])\n",
    "net = tflearn.fully_connected(net, 32)\n",
    "net = tflearn.fully_connected(net, 32)\n",
    "net = tflearn.fully_connected(net, 2, activation='softmax')\n",
    "net = tflearn.regression(net)\n"
   ]
  },
  {
   "cell_type": "code",
   "execution_count": null,
   "metadata": {},
   "outputs": [],
   "source": []
  }
 ],
 "metadata": {
  "kernelspec": {
   "display_name": "Python 3",
   "language": "python",
   "name": "python3"
  },
  "language_info": {
   "codemirror_mode": {
    "name": "ipython",
    "version": 3
   },
   "file_extension": ".py",
   "mimetype": "text/x-python",
   "name": "python",
   "nbconvert_exporter": "python",
   "pygments_lexer": "ipython3",
   "version": "3.5.2"
  }
 },
 "nbformat": 4,
 "nbformat_minor": 2
}
