{
 "cells": [
  {
   "cell_type": "code",
   "execution_count": null,
   "metadata": {
    "scrolled": true
   },
   "outputs": [],
   "source": [
    "import numpy as np\n",
    "import pandas as pd\n",
    "import seaborn as sns\n",
    "from sklearn.model_selection import KFold, train_test_split\n",
    "from sklearn.feature_selection import SelectKBest, chi2\n",
    "from sklearn.preprocessing import MinMaxScaler #For feature Scaling\n",
    "from sklearn.preprocessing import StandardScaler\n",
    "from sklearn.linear_model import LinearRegression\n",
    "import matplotlib.pyplot as plt\n",
    "% matplotlib inline \n",
    "\n",
    "# List to denote custom field names\n",
    "fields = ['CRIM','ZN','INDUS','CHAS','NOX','RM','AGE','DIS','RAD','TAX','PTRATIO','B','LSTAT','MEDV']\n",
    "\n",
    "# read csv and apply custom names to it \n",
    "# 'delim_whitespace' separates the field by a whitespace when set to True\n",
    "data = pd.read_csv('housing.csv',delim_whitespace=True, names = fields)\n",
    "data.head()"
   ]
  },
  {
   "cell_type": "markdown",
   "metadata": {},
   "source": [
    "### Preprocess data"
   ]
  },
  {
   "cell_type": "code",
   "execution_count": null,
   "metadata": {
    "scrolled": false
   },
   "outputs": [],
   "source": [
    "X = data.drop(['MEDV','CHAS'], 1)\n",
    "y = data['MEDV']\n",
    "\n",
    "# Visualize the corellation of the data\n",
    "correlations = X.corr()\n",
    "# plot correlation matrix\n",
    "fig = plt.figure()\n",
    "ax = fig.add_subplot(111)\n",
    "cax = ax.matshow(correlations, vmin=-1, vmax=1)\n",
    "fig.colorbar(cax)\n",
    "plt.show()"
   ]
  },
  {
   "cell_type": "markdown",
   "metadata": {},
   "source": [
    "### Lets see how the average number or rooms affects the price of the House \n",
    "from the below plot, we can easily tell the more the rooms increase, the Value of the house increases as well."
   ]
  },
  {
   "cell_type": "code",
   "execution_count": null,
   "metadata": {},
   "outputs": [],
   "source": [
    "sns.lmplot(x = 'RM', y = 'MEDV', palette = 'Set1',data = data)\n",
    "plt.xlabel('average number of rooms per dwelling')\n",
    "plt.ylabel('Median value of owner-occupied homes in ($1000)')\n",
    "plt.show()"
   ]
  },
  {
   "cell_type": "markdown",
   "metadata": {},
   "source": [
    "### Lets see how the crime rate by town affects the price of the House \n",
    "from the below plot, we can see that with the crime rate at the rate of 0 - 15, the values of the Houses were experiencing an increase but as the crime rate increased, the values dropped. From this information, we can conclude that The Higher the crime rate, the lower the house is valued at and Visa-versa"
   ]
  },
  {
   "cell_type": "code",
   "execution_count": null,
   "metadata": {
    "scrolled": true
   },
   "outputs": [],
   "source": [
    "sns.lmplot(x = 'CRIM', y = 'MEDV', palette = 'Set1',data = data)\n",
    "plt.xlabel('Crime rate per town')\n",
    "plt.ylabel('Value of House')\n",
    "plt.show()"
   ]
  },
  {
   "cell_type": "markdown",
   "metadata": {},
   "source": [
    "### Here, we visualize how that Charles River dummy variable (= 1 if tract bounds river; 0 otherwise) (CHAS) affects the value of the House\n",
    "We can see that it doesn't necessarily make sense, thus we drop the entire column:\n",
    "    ### Note:\n",
    "    After droping the CHAS column, the accuracy score of our model increased from 79% to a cool 80.39% Accuracy \n",
    "    Score."
   ]
  },
  {
   "cell_type": "code",
   "execution_count": null,
   "metadata": {
    "scrolled": true
   },
   "outputs": [],
   "source": [
    "sns.lmplot(x = 'CHAS', y = 'MEDV', palette = 'Set1',data = data)\n",
    "plt.xlabel('CHAS')\n",
    "plt.ylabel('Value of House')\n",
    "plt.show()"
   ]
  },
  {
   "cell_type": "markdown",
   "metadata": {},
   "source": [
    "### Lets see how the Age of the house affects the price of the House \n",
    "from the below plot, we can see that with the increase in the Age of the house, the Value Decreases"
   ]
  },
  {
   "cell_type": "code",
   "execution_count": null,
   "metadata": {
    "scrolled": true
   },
   "outputs": [],
   "source": [
    "sns.lmplot(x = 'AGE', y = 'MEDV', palette = 'Set1',data = data)\n",
    "plt.xlabel('The Age of The House')\n",
    "plt.ylabel('Value of House')\n",
    "plt.show()"
   ]
  },
  {
   "cell_type": "code",
   "execution_count": null,
   "metadata": {},
   "outputs": [],
   "source": []
  },
  {
   "cell_type": "markdown",
   "metadata": {},
   "source": [
    "### Cross Validation using train_test_split"
   ]
  },
  {
   "cell_type": "code",
   "execution_count": null,
   "metadata": {},
   "outputs": [],
   "source": [
    "scaler = MinMaxScaler(feature_range = (0,1))\n",
    "scaledX = scaler.fit_transform(X)\n",
    "\n",
    "from sklearn.preprocessing import Normalizer\n",
    "norm = Normalizer().fit_transform(scaledX)\n",
    "\n",
    "X_train, X_test, y_train, y_test = train_test_split(norm, y,test_size = 0.2, random_state = 3)\n",
    "\n",
    "LR = LinearRegression()\n",
    "LR.fit(X_train, y_train)\n",
    "\n",
    "print('Accuracy Score: ',LR.score(X_test, y_test) * 100.00)\n",
    "\n",
    "pred = LR.predict(X_test[6:10])\n",
    "print('Prediction: ', pred)\n",
    "print('Coeffitients: \\n', LR.coef_)\n",
    "print('')\n",
    "print(y[6:10])"
   ]
  },
  {
   "cell_type": "code",
   "execution_count": null,
   "metadata": {},
   "outputs": [],
   "source": []
  }
 ],
 "metadata": {
  "kernelspec": {
   "display_name": "Python 3",
   "language": "python",
   "name": "python3"
  },
  "language_info": {
   "codemirror_mode": {
    "name": "ipython",
    "version": 3
   },
   "file_extension": ".py",
   "mimetype": "text/x-python",
   "name": "python",
   "nbconvert_exporter": "python",
   "pygments_lexer": "ipython3",
   "version": "3.5.2"
  }
 },
 "nbformat": 4,
 "nbformat_minor": 2
}
