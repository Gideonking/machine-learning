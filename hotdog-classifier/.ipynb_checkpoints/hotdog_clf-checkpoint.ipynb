{
 "cells": [
  {
   "cell_type": "code",
   "execution_count": 3,
   "metadata": {},
   "outputs": [],
   "source": [
    "import os\n",
    "import numpy as np\n",
    "from random import shuffle\n",
    "import cv2\n",
    "from tqdm import tqdm\n",
    "\n",
    "test_path = 'testing/'\n",
    "train_path = 'training/'\n",
    "IMAGE_SIZE = 70\n",
    "\n",
    "def label_img(img_path):\n",
    "    print(img_path)\n",
    "    word_label = img_path.split('.')[-3]\n",
    "    if word_label == 'hotdog': return [1,0]\n",
    "    else: return [0,1]\n",
    "    \n",
    "def create_dataset():\n",
    "    training_data = []\n",
    "    for img_path in tqdm(os.listdir(train_path)):\n",
    "        label = label_img(img_path)\n",
    "        path = os.path.join(train_path,img_path)\n",
    "        img_path = cv2.resize(cv2.imread(path, cv2.IMREAD_GRAYSCALE), (IMAGE_SIZE, IMAGE_SIZE))\n",
    "        print(img_path.shape)\n",
    "        training_data.append([img_path,label])\n",
    "    shuffle(training_data)\n",
    "    np.save('train_data.npy', np.array(training_data))\n",
    "    return training_data\n",
    "\n",
    "def create_test():\n",
    "    testing_data = []\n",
    "    for img in tqdm(os.listdir(test_path)):\n",
    "        path = os.path.join(test_path, img)\n",
    "        img_num = img.split('.')[0]\n",
    "        img = cv2.resize(cv2.imread(path, cv2.IMREAD_GRAYSCALE), (IMAGE_SIZE,IMAGE_SIZE))\n",
    "        testing_data.append([np.array(img), img_num])\n",
    "        \n",
    "    np.save('test_data.npy', testing_data)\n",
    "    return testing_data"
   ]
  },
  {
   "cell_type": "code",
   "execution_count": null,
   "metadata": {},
   "outputs": [],
   "source": []
  },
  {
   "cell_type": "code",
   "execution_count": null,
   "metadata": {},
   "outputs": [],
   "source": []
  },
  {
   "cell_type": "code",
   "execution_count": 21,
   "metadata": {},
   "outputs": [],
   "source": [
    "import os,cv2\n",
    "import numpy as np\n",
    "import matplotlib.pyplot as plt\n",
    "\n",
    "from sklearn.utils import shuffle\n",
    "from sklearn.model_selection import train_test_split\n",
    "\n",
    "from keras import backend as K\n",
    "K.set_image_dim_ordering('tf')\n",
    "\n",
    "from keras.utils import np_utils\n",
    "from keras.models import Sequential\n",
    "from keras.layers.core import Dense, Dropout,Activation, Flatten\n",
    "from keras.layers.convolutional import Convolution2D, MaxPooling2D\n",
    "from keras.optimizers import SGD, RMSprop,adam\n",
    "from keras.preprocessing.image import ImageDataGenerator\n"
   ]
  },
  {
   "cell_type": "code",
   "execution_count": 29,
   "metadata": {},
   "outputs": [],
   "source": [
    "train_dir = '/training'\n",
    "test_dir = '/testing'\n",
    "validation_dir = '/valids//'"
   ]
  },
  {
   "cell_type": "code",
   "execution_count": 30,
   "metadata": {},
   "outputs": [
    {
     "name": "stdout",
     "output_type": "stream",
     "text": [
      "Found 0 images belonging to 2 classes.\n",
      "Found 0 images belonging to 2 classes.\n",
      "Found 0 images belonging to 2 classes.\n"
     ]
    }
   ],
   "source": [
    "# TRAINING IMAGE DATA GENERATOR\n",
    "train_batches = ImageDataGenerator().flow_from_directory(\n",
    "    train_dir,\n",
    "    target_size=(IMAGE_SIZE,IMAGE_SIZE), \n",
    "    classes=['hotdog','other'], \n",
    "    batch_size=1\n",
    ")\n",
    "\n",
    "# TESTING IMAGE DATA GENERATOR\n",
    "train_batches = ImageDataGenerator().flow_from_directory(\n",
    "    test_dir,\n",
    "    target_size=(IMAGE_SIZE,IMAGE_SIZE), \n",
    "    classes=['hotdog','other'], \n",
    "    batch_size=1\n",
    ")\n",
    "\n",
    "# VALIDATION IMAGE DATA GENERATOR\n",
    "train_batches = ImageDataGenerator().flow_from_directory(\n",
    "    validation_dir,\n",
    "    target_size=(IMAGE_SIZE,IMAGE_SIZE), \n",
    "    classes=['hotdog','other'], \n",
    "    batch_size=1\n",
    ")"
   ]
  },
  {
   "cell_type": "code",
   "execution_count": null,
   "metadata": {},
   "outputs": [],
   "source": []
  },
  {
   "cell_type": "code",
   "execution_count": null,
   "metadata": {},
   "outputs": [],
   "source": []
  },
  {
   "cell_type": "code",
   "execution_count": 79,
   "metadata": {},
   "outputs": [],
   "source": [
    "from keras.layers import Dense, Activation, Convolution2D\n",
    "from keras.models import Sequential\n",
    "from keras.optimizers import adam"
   ]
  },
  {
   "cell_type": "code",
   "execution_count": 98,
   "metadata": {},
   "outputs": [
    {
     "name": "stdout",
     "output_type": "stream",
     "text": [
      "_________________________________________________________________\n",
      "Layer (type)                 Output Shape              Param #   \n",
      "=================================================================\n",
      "conv1 (Conv2D)               (None, 34, 34, 32)        896       \n",
      "_________________________________________________________________\n",
      "activation_9 (Activation)    (None, 34, 34, 32)        0         \n",
      "_________________________________________________________________\n",
      "conv2d_4 (Conv2D)            (None, 16, 16, 32)        9248      \n",
      "_________________________________________________________________\n",
      "activation_10 (Activation)   (None, 16, 16, 32)        0         \n",
      "_________________________________________________________________\n",
      "dense_3 (Dense)              (None, 16, 16, 2)         66        \n",
      "_________________________________________________________________\n",
      "activation_11 (Activation)   (None, 16, 16, 2)         0         \n",
      "=================================================================\n",
      "Total params: 10,210\n",
      "Trainable params: 10,210\n",
      "Non-trainable params: 0\n",
      "_________________________________________________________________\n"
     ]
    }
   ],
   "source": [
    "model = Sequential()\n",
    "\n",
    "model.add(Convolution2D(32, (3, 3), strides=(2, 2), padding='valid',input_shape=(70,70,3), name='conv1'))\n",
    "model.add(Activation('relu'))\n",
    "\n",
    "model.add(Conv2D(32, (3,3), strides = (2,2)))\n",
    "model.add(Activation('relu'))\n",
    "\n",
    "model.add(Dense(units = 2))\n",
    "model.add(Activation('softmax'))\n",
    "\n",
    "model.summary()"
   ]
  },
  {
   "cell_type": "code",
   "execution_count": null,
   "metadata": {},
   "outputs": [],
   "source": []
  },
  {
   "cell_type": "code",
   "execution_count": null,
   "metadata": {},
   "outputs": [],
   "source": []
  }
 ],
 "metadata": {
  "kernelspec": {
   "display_name": "Python 3",
   "language": "python",
   "name": "python3"
  },
  "language_info": {
   "codemirror_mode": {
    "name": "ipython",
    "version": 3
   },
   "file_extension": ".py",
   "mimetype": "text/x-python",
   "name": "python",
   "nbconvert_exporter": "python",
   "pygments_lexer": "ipython3",
   "version": "3.5.2"
  }
 },
 "nbformat": 4,
 "nbformat_minor": 2
}
