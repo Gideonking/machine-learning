{
 "cells": [
  {
   "cell_type": "code",
   "execution_count": 1,
   "metadata": {
    "scrolled": true
   },
   "outputs": [],
   "source": [
    "import numpy as np\n",
    "import pandas as pd\n",
    "from sklearn.model_selection import train_test_split\n",
    "from sklearn.linear_model import LinearRegression\n",
    "from sklearn.neighbors import KNeighborsClassifier\n",
    "df = pd.read_csv('pima-indians-diabetes.data')\n"
   ]
  },
  {
   "cell_type": "code",
   "execution_count": 2,
   "metadata": {},
   "outputs": [
    {
     "name": "stdout",
     "output_type": "stream",
     "text": [
      "   col1  col2  col3  col4  col5  col6   col7  col8  class\n",
      "0     6   148    72    35     0  33.6  0.627    50      1\n",
      "1     1    85    66    29     0  26.6  0.351    31      0\n",
      "2     8   183    64     0     0  23.3  0.672    32      1\n",
      "3     1    89    66    23    94  28.1  0.167    21      0\n",
      "4     0   137    40    35   168  43.1  2.288    33      1\n",
      "(614, 7)\n",
      "(154, 7)\n"
     ]
    }
   ],
   "source": [
    "print(df.head())\n",
    "X = np.array(df.drop(['class','col5'],1))\n",
    "y = np.array(df['class'])\n",
    "X_train,X_test,y_train,y_test = train_test_split(X,y,test_size = 0.2,random_state = 4)\n",
    "print(X_train.shape)\n",
    "print(X_test.shape)\n",
    "\n"
   ]
  },
  {
   "cell_type": "code",
   "execution_count": 3,
   "metadata": {},
   "outputs": [
    {
     "data": {
      "image/png": "[encoded data removed]",
      "text/plain": [
       "<matplotlib.figure.Figure at 0x7f77fd8134a8>"
      ]
     },
     "metadata": {},
     "output_type": "display_data"
    },
    {
     "name": "stdout",
     "output_type": "stream",
     "text": [
      "KNeighborsClassifier(algorithm='auto', leaf_size=30, metric='minkowski',\n",
      "           metric_params=None, n_jobs=1, n_neighbors=50, p=2,\n",
      "           weights='uniform')\n",
      "Accuracy score:  0.818181818182\n"
     ]
    }
   ],
   "source": [
    "# clf = LinearRegression()\n",
    "import matplotlib.pyplot as plt\n",
    "%matplotlib inline\n",
    "i_range = range(1,101)\n",
    "scores = []\n",
    "\n",
    "for k in i_range:\n",
    "    clf = KNeighborsClassifier(n_neighbors = k)\n",
    "    clf.fit(X_train,y_train)\n",
    "    scores.append(clf.score(X_test,y_test))\n",
    "\n",
    "plt.plot(i_range,scores)\n",
    "plt.show()\n",
    "    \n",
    "clf = KNeighborsClassifier(n_neighbors = 50)\n",
    "clf.fit(X_train,y_train)\n",
    "print(clf)\n",
    "print('Accuracy score: ', clf.score(X_test,y_test))"
   ]
  },
  {
   "cell_type": "code",
   "execution_count": null,
   "metadata": {},
   "outputs": [],
   "source": []
  }
 ],
 "metadata": {
  "kernelspec": {
   "display_name": "Python 3",
   "language": "python",
   "name": "python3"
  },
  "language_info": {
   "codemirror_mode": {
    "name": "ipython",
    "version": 3
   },
   "file_extension": ".py",
   "mimetype": "text/x-python",
   "name": "python",
   "nbconvert_exporter": "python",
   "pygments_lexer": "ipython3",
   "version": "3.5.2"
  }
 },
 "nbformat": 4,
 "nbformat_minor": 2
}
