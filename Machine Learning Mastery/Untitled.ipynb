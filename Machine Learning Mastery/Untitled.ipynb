{
 "cells": [
  {
   "cell_type": "code",
   "execution_count": 31,
   "metadata": {},
   "outputs": [
    {
     "data": {
      "text/plain": [
       "preg     0.902\n",
       "plas     0.174\n",
       "pres    -1.844\n",
       "skin     0.109\n",
       "test     2.272\n",
       "mass    -0.429\n",
       "pedi     1.920\n",
       "age      1.130\n",
       "class    0.635\n",
       "dtype: float64"
      ]
     },
     "execution_count": 31,
     "metadata": {},
     "output_type": "execute_result"
    }
   ],
   "source": [
    "import pandas as pd\n",
    "from pandas import set_option\n",
    "\n",
    "filename = 'pima.csv'\n",
    "names = ['preg' , 'plas' , 'pres' , 'skin' , 'test' , 'mass' , 'pedi' , 'age' , 'class']\n",
    "data = pd.read_csv(filename, names=names)\n",
    "\n",
    "# set_option('display.width', 100)\n",
    "# set_option('precision',3)\n",
    "\n",
    "# data.describe()\n",
    "# data.groupby('class').size()\n",
    "data.corr(method=\"pearson\")\n",
    "data.skew()"
   ]
  }
 ],
 "metadata": {
  "kernelspec": {
   "display_name": "Python 3",
   "language": "python",
   "name": "python3"
  },
  "language_info": {
   "codemirror_mode": {
    "name": "ipython",
    "version": 3
   },
   "file_extension": ".py",
   "mimetype": "text/x-python",
   "name": "python",
   "nbconvert_exporter": "python",
   "pygments_lexer": "ipython3",
   "version": "3.5.2"
  }
 },
 "nbformat": 4,
 "nbformat_minor": 2
}
