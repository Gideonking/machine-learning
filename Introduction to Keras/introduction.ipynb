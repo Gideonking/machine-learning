{
 "cells": [
  {
   "cell_type": "code",
   "execution_count": 11,
   "metadata": {},
   "outputs": [],
   "source": [
    "# A Basic Keras Neural Network Structure\n",
    "from keras.models import Sequential\n",
    "model = Sequential()\n",
    "\n",
    "from keras.layers import Dense, Activation\n",
    "\n",
    "model.add(Dense(units=64, input_dim = 100))\n",
    "model.add(Activation('relu'))\n",
    "\n",
    "model.add(Dense(units=10))\n",
    "model.add(Activation('softmax'))\n",
    "\n",
    "model.compile(loss='categorical_crossentropy', optimizer='sgd',metrics=['accuracy'])\n",
    "\n",
    "# model.compile(losses = keras.losses.categorical_crossentropy,\n",
    "#              optimizer = keras.optimizers.sgd(lr=0.01, momentum=0.9,nestrov=True))\n",
    "\n",
    "# model.fit(x_train, y_train,epoch=5, batch_size = 35)\n",
    "# model.train_on_batch(x_batch, y_batch)\n",
    "\n",
    "# loss_and_metrics = model.evaluate(x_test,y_test, batch_size = 128) #Evaluate accuracy and loss of the net\n",
    "\n",
    "# classes = model.predict(x_test, batch_size=128) #Make predictions on training Data\n"
   ]
  },
  {
   "cell_type": "code",
   "execution_count": 17,
   "metadata": {},
   "outputs": [],
   "source": [
    "from keras.models import Sequential\n",
    "from keras.layers import Dense, Activation\n",
    "\n",
    "model = Sequential(\n",
    "    [\n",
    "        Dense(units=64, input_shape=(784,)),\n",
    "        Activation('relu'),\n",
    "        Dense(10),\n",
    "        Activation('softmax'),\n",
    "    ]\n",
    ")\n",
    "\n",
    "model = Sequential()\n",
    "model.add(Dense(units = 64, input_dim=784))\n",
    "model.add(Activation('relu'))\n",
    "model.add(Dense(10))\n",
    "model.add(Activation('softmax'))"
   ]
  },
  {
   "cell_type": "code",
   "execution_count": 2,
   "metadata": {},
   "outputs": [],
   "source": [
    "from keras.models import Sequential\n",
    "from keras.layers import Dense, Activation\n",
    "\n",
    "model = Sequential()\n",
    "model.add(Dense(32, input_shape=(784,)))\n",
    "model.add(Dense(32, input_dim=784))"
   ]
  },
  {
   "cell_type": "code",
   "execution_count": 21,
   "metadata": {},
   "outputs": [],
   "source": [
    "# for multi-class classification problem\n",
    "model.compile(optimizer = 'rmsprop', loss='categorical_crossentropy',metrics=['accuracy'])\n",
    "\n",
    "# for binary classification problems\n",
    "model.compile(optimizer = 'rmsprop', loss='binary_crossentropy',metrics=['accuracy'])\n",
    "\n",
    "# for a mean-squared error problem\n",
    "model.compile(optimizer = 'rmsprop',loss='mse',metrics=['accuracy'])\n",
    "\n",
    "# For custom metrics\n",
    "import keras.backend as K\n",
    "def mean_pred(y_true, y_pred):\n",
    "    return K.mean(y_pred)\n",
    "\n",
    "model.compile(optimizer='rmsprop', loss='binary_crossentropy', metrics=['accuracy',mean_pred])"
   ]
  },
  {
   "cell_type": "code",
   "execution_count": null,
   "metadata": {},
   "outputs": [],
   "source": []
  },
  {
   "cell_type": "code",
   "execution_count": 5,
   "metadata": {},
   "outputs": [
    {
     "name": "stdout",
     "output_type": "stream",
     "text": [
      "(1000, 100)\n",
      "(1000, 1)\n",
      "Epoch 1/10\n",
      "1000/1000 [==============================] - 1s 1ms/step - loss: 0.7151 - acc: 0.4900\n",
      "Epoch 2/10\n",
      "1000/1000 [==============================] - 0s 82us/step - loss: 0.6984 - acc: 0.5060\n",
      "Epoch 3/10\n",
      "1000/1000 [==============================] - 0s 82us/step - loss: 0.6891 - acc: 0.5250\n",
      "Epoch 4/10\n",
      "1000/1000 [==============================] - 0s 78us/step - loss: 0.6821 - acc: 0.5520\n",
      "Epoch 5/10\n",
      "1000/1000 [==============================] - 0s 78us/step - loss: 0.6764 - acc: 0.5620\n",
      "Epoch 6/10\n",
      "1000/1000 [==============================] - 0s 85us/step - loss: 0.6743 - acc: 0.5700\n",
      "Epoch 7/10\n",
      "1000/1000 [==============================] - 0s 80us/step - loss: 0.6700 - acc: 0.5880\n",
      "Epoch 8/10\n",
      "1000/1000 [==============================] - 0s 89us/step - loss: 0.6642 - acc: 0.5720\n",
      "Epoch 9/10\n",
      "1000/1000 [==============================] - 0s 89us/step - loss: 0.6588 - acc: 0.6100\n",
      "Epoch 10/10\n",
      "1000/1000 [==============================] - 0s 80us/step - loss: 0.6561 - acc: 0.6030\n"
     ]
    },
    {
     "data": {
      "text/plain": [
       "<keras.callbacks.History at 0x7f1d118ac898>"
      ]
     },
     "execution_count": 5,
     "metadata": {},
     "output_type": "execute_result"
    }
   ],
   "source": [
    "# TRAIN\n",
    "model = Sequential()\n",
    "model.add(Dense(32, activation='relu', input_dim=100))\n",
    "model.add(Dense(1,activation='sigmoid'))\n",
    "model.compile(optimizer='rmsprop', loss='binary_crossentropy',metrics=['accuracy'])\n",
    "\n",
    "# Generatte dummy data\n",
    "import numpy as np\n",
    "data = np.random.random((1000,100))\n",
    "labels = np.random.randint(2, size = (1000,1))\n",
    "# print(data[1][1])\n",
    "print(data.shape)\n",
    "print(labels.shape)\n",
    "\n",
    "# Train the model\n",
    "model.fit(data,labels, epochs = 10, batch_size = 32)"
   ]
  },
  {
   "cell_type": "code",
   "execution_count": 3,
   "metadata": {},
   "outputs": [
    {
     "name": "stdout",
     "output_type": "stream",
     "text": [
      "[[ 0.  0.  1.  0.  0.  0.  0.  0.  0.  0.]\n",
      " [ 1.  0.  0.  0.  0.  0.  0.  0.  0.  0.]]\n",
      "(1000, 100)\n",
      "(1000, 1)\n"
     ]
    }
   ],
   "source": [
    "# For a single-input model with 10 classes (categorical classification):\n",
    "import keras\n",
    "model = Sequential()\n",
    "model.add(Dense(32, activation='relu', input_dim=100))\n",
    "model.add(Dense(10,activation='sigmoid'))\n",
    "model.compile(optimizer='rmsprop', loss='categorical_crossentropy',metrics=['accuracy'])\n",
    "\n",
    "# Generate dummy data\n",
    "import numpy as np\n",
    "data = np.random.random((1000,100))\n",
    "labels = np.random.randint(10, size = (1000,1))\n",
    "\n",
    "# Convert labels to categorical one-hot encoding\n",
    "one_hot_labels = keras.utils.to_categorical(labels, num_classes=10)\n",
    "\n",
    "print(one_hot_labels[:2])\n",
    "# print(data[1][1])\n",
    "print(data.shape)\n",
    "print(labels.shape)\n",
    "# model.fit(data, one_hot_labels, epochs=10, batch_size=32)"
   ]
  },
  {
   "cell_type": "code",
   "execution_count": null,
   "metadata": {},
   "outputs": [],
   "source": []
  }
 ],
 "metadata": {
  "kernelspec": {
   "display_name": "Python 3",
   "language": "python",
   "name": "python3"
  },
  "language_info": {
   "codemirror_mode": {
    "name": "ipython",
    "version": 3
   },
   "file_extension": ".py",
   "mimetype": "text/x-python",
   "name": "python",
   "nbconvert_exporter": "python",
   "pygments_lexer": "ipython3",
   "version": "3.5.2"
  }
 },
 "nbformat": 4,
 "nbformat_minor": 2
}
