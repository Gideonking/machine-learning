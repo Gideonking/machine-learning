{
 "cells": [
  {
   "cell_type": "code",
   "execution_count": 2,
   "metadata": {},
   "outputs": [
    {
     "name": "stderr",
     "output_type": "stream",
     "text": [
      "Using TensorFlow backend.\n"
     ]
    }
   ],
   "source": [
    "from __future__ import print_function\n",
    "import numpy as np\n",
    "from keras.datasets import mnist\n",
    "from keras.models import Sequential\n",
    "from keras.layers.core import Dense, Activation, Dropout\n",
    "from keras.optimizers import RMSprop, SGD\n",
    "from keras.utils import np_utils\n",
    "from keras import regularizers \n",
    "from tqdm import tqdm\n",
    "np.random.seed(1671) # for reproducibility\n",
    "import matplotlib.pyplot as plt\n",
    "%matplotlib inline"
   ]
  },
  {
   "cell_type": "code",
   "execution_count": 52,
   "metadata": {},
   "outputs": [],
   "source": [
    "# network and training\n",
    "NB_EPOCH = 20\n",
    "BATCH_SIZE = 128\n",
    "DROPOUT = 0.3\n",
    "VERBOSE = 1\n",
    "NB_CLASSES = 10 # number of outputs = number of digits\n",
    "OPTIMIZER = RMSprop() # SGD optimizer, explained later in this chapter\n",
    "N_HIDDEN = 128\n",
    "VALIDATION_SPLIT=0.2 # how much TRAIN is reserved for VALIDATION"
   ]
  },
  {
   "cell_type": "code",
   "execution_count": 3,
   "metadata": {},
   "outputs": [
    {
     "name": "stdout",
     "output_type": "stream",
     "text": [
      "(60000, 28, 28)\n"
     ]
    }
   ],
   "source": [
    "(X_train, y_train), (X_test, y_test) = mnist.load_data()\n",
    "print(X_train.shape)\n",
    "RESHAPE = 784\n",
    "X_train = X_train.reshape(60000, RESHAPE)\n",
    "X_test = X_test.reshape(10000, RESHAPE)\n",
    "X_train = X_train.astype('float32')\n",
    "y_train = y_train.astype('float32')"
   ]
  },
  {
   "cell_type": "code",
   "execution_count": 54,
   "metadata": {},
   "outputs": [],
   "source": [
    "# NORMALIZE\n",
    "X_train /= 255\n",
    "X_test = X_test/255\n",
    "\n",
    "# convert class vectors to binary class matrices\n",
    "y_train = np_utils.to_categorical(y_train, NB_CLASSES)\n",
    "y_test = np_utils.to_categorical(y_test, NB_CLASSES)"
   ]
  },
  {
   "cell_type": "code",
   "execution_count": 71,
   "metadata": {},
   "outputs": [
    {
     "name": "stdout",
     "output_type": "stream",
     "text": [
      "_________________________________________________________________\n",
      "Layer (type)                 Output Shape              Param #   \n",
      "=================================================================\n",
      "dense_43 (Dense)             (None, 10)                7850      \n",
      "_________________________________________________________________\n",
      "activation_42 (Activation)   (None, 10)                0         \n",
      "_________________________________________________________________\n",
      "dense_44 (Dense)             (None, 128)               1408      \n",
      "_________________________________________________________________\n",
      "activation_43 (Activation)   (None, 128)               0         \n",
      "_________________________________________________________________\n",
      "dense_45 (Dense)             (None, 128)               16512     \n",
      "_________________________________________________________________\n",
      "activation_44 (Activation)   (None, 128)               0         \n",
      "_________________________________________________________________\n",
      "dense_46 (Dense)             (None, 10)                1290      \n",
      "_________________________________________________________________\n",
      "activation_45 (Activation)   (None, 10)                0         \n",
      "=================================================================\n",
      "Total params: 27,060\n",
      "Trainable params: 27,060\n",
      "Non-trainable params: 0\n",
      "_________________________________________________________________\n"
     ]
    }
   ],
   "source": [
    "# 10 outputs\n",
    "# final stage is softmax\n",
    "model = Sequential()\n",
    "model.add(Dense(NB_CLASSES, input_shape=(RESHAPE,), kernel_regularizer=regularizers.l2(0.01)))\n",
    "model.add(Activation('relu'))\n",
    "# model.add(Dropout(DROPOUT))\n",
    "\n",
    "model.add(Dense(N_HIDDEN))\n",
    "model.add(Activation('relu'))\n",
    "# model.add(Dropout(DROPOUT))\n",
    "\n",
    "model.add(Dense(N_HIDDEN))\n",
    "model.add(Activation('relu'))\n",
    "# model.add(Dropout(DROPOUT))\n",
    "\n",
    "\n",
    "model.add(Dense(NB_CLASSES))\n",
    "model.add(Activation('softmax'))\n",
    "\n",
    "model.summary()"
   ]
  },
  {
   "cell_type": "code",
   "execution_count": 72,
   "metadata": {},
   "outputs": [],
   "source": [
    "model.compile(loss = 'categorical_crossentropy', optimizer=OPTIMIZER,metrics=['accuracy'])"
   ]
  },
  {
   "cell_type": "code",
   "execution_count": 73,
   "metadata": {},
   "outputs": [
    {
     "name": "stdout",
     "output_type": "stream",
     "text": [
      "Train on 48000 samples, validate on 12000 samples\n",
      "Epoch 1/20\n",
      "48000/48000 [==============================] - 3s 62us/step - loss: 0.6334 - acc: 0.8412 - val_loss: 0.3812 - val_acc: 0.9107\n",
      "Epoch 2/20\n",
      "48000/48000 [==============================] - 2s 46us/step - loss: 0.3645 - acc: 0.9122 - val_loss: 0.3249 - val_acc: 0.9197\n",
      "Epoch 3/20\n",
      "48000/48000 [==============================] - 2s 47us/step - loss: 0.3103 - acc: 0.9228 - val_loss: 0.2944 - val_acc: 0.9268\n",
      "Epoch 4/20\n",
      "48000/48000 [==============================] - 2s 47us/step - loss: 0.2781 - acc: 0.9303 - val_loss: 0.2484 - val_acc: 0.9409\n",
      "Epoch 5/20\n",
      "48000/48000 [==============================] - 2s 48us/step - loss: 0.2545 - acc: 0.9348 - val_loss: 0.2451 - val_acc: 0.9400\n",
      "Epoch 6/20\n",
      "48000/48000 [==============================] - 2s 48us/step - loss: 0.2387 - acc: 0.9382 - val_loss: 0.2272 - val_acc: 0.9438\n",
      "Epoch 7/20\n",
      "48000/48000 [==============================] - 2s 48us/step - loss: 0.2258 - acc: 0.9425 - val_loss: 0.2102 - val_acc: 0.9492\n",
      "Epoch 8/20\n",
      "48000/48000 [==============================] - 2s 48us/step - loss: 0.2139 - acc: 0.9455 - val_loss: 0.2133 - val_acc: 0.9449\n",
      "Epoch 9/20\n",
      "48000/48000 [==============================] - 2s 50us/step - loss: 0.2063 - acc: 0.9473 - val_loss: 0.2135 - val_acc: 0.9456\n",
      "Epoch 10/20\n",
      "48000/48000 [==============================] - 2s 50us/step - loss: 0.2010 - acc: 0.9485 - val_loss: 0.1976 - val_acc: 0.9510\n",
      "Epoch 11/20\n",
      "48000/48000 [==============================] - 2s 50us/step - loss: 0.1944 - acc: 0.9500 - val_loss: 0.2148 - val_acc: 0.9475\n",
      "Epoch 12/20\n",
      "48000/48000 [==============================] - 2s 50us/step - loss: 0.1883 - acc: 0.9520 - val_loss: 0.1810 - val_acc: 0.9563\n",
      "Epoch 13/20\n",
      "48000/48000 [==============================] - 3s 54us/step - loss: 0.1856 - acc: 0.9519 - val_loss: 0.1967 - val_acc: 0.9538\n",
      "Epoch 14/20\n",
      "48000/48000 [==============================] - 2s 49us/step - loss: 0.1832 - acc: 0.9529 - val_loss: 0.1876 - val_acc: 0.9535\n",
      "Epoch 15/20\n",
      "48000/48000 [==============================] - 2s 50us/step - loss: 0.1779 - acc: 0.9537 - val_loss: 0.1888 - val_acc: 0.9518\n",
      "Epoch 16/20\n",
      "48000/48000 [==============================] - 2s 51us/step - loss: 0.1756 - acc: 0.9544 - val_loss: 0.2203 - val_acc: 0.9428\n",
      "Epoch 17/20\n",
      "48000/48000 [==============================] - 2s 51us/step - loss: 0.1726 - acc: 0.9556 - val_loss: 0.1914 - val_acc: 0.9516\n",
      "Epoch 18/20\n",
      "48000/48000 [==============================] - 2s 50us/step - loss: 0.1706 - acc: 0.9561 - val_loss: 0.1786 - val_acc: 0.9569\n",
      "Epoch 19/20\n",
      "48000/48000 [==============================] - 2s 50us/step - loss: 0.1670 - acc: 0.9571 - val_loss: 0.1983 - val_acc: 0.9495\n",
      "Epoch 20/20\n",
      "48000/48000 [==============================] - 2s 50us/step - loss: 0.1660 - acc: 0.9584 - val_loss: 0.1853 - val_acc: 0.9547\n"
     ]
    },
    {
     "data": {
      "text/plain": [
       "<keras.callbacks.History at 0x7f2477772828>"
      ]
     },
     "execution_count": 73,
     "metadata": {},
     "output_type": "execute_result"
    }
   ],
   "source": [
    "model.fit(X_train,y_train,batch_size=BATCH_SIZE,epochs=NB_EPOCH,validation_split=VALIDATION_SPLIT, verbose=VERBOSE)"
   ]
  },
  {
   "cell_type": "code",
   "execution_count": 74,
   "metadata": {},
   "outputs": [
    {
     "name": "stdout",
     "output_type": "stream",
     "text": [
      "10000/10000 [==============================] - 1s 50us/step\n",
      "Test score: 0.182190625215\n",
      "Test accuracy: 0.9552\n"
     ]
    }
   ],
   "source": [
    "score = model.evaluate(X_test, y_test, verbose=VERBOSE)\n",
    "print(\"Test score:\", score[0])\n",
    "print('Test accuracy:', score[1])"
   ]
  }
 ],
 "metadata": {
  "kernelspec": {
   "display_name": "Python 3",
   "language": "python",
   "name": "python3"
  },
  "language_info": {
   "codemirror_mode": {
    "name": "ipython",
    "version": 3
   },
   "file_extension": ".py",
   "mimetype": "text/x-python",
   "name": "python",
   "nbconvert_exporter": "python",
   "pygments_lexer": "ipython3",
   "version": "3.5.2"
  }
 },
 "nbformat": 4,
 "nbformat_minor": 2
}
