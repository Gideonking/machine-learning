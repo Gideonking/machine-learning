{
 "cells": [
  {
   "cell_type": "markdown",
   "metadata": {},
   "source": [
    "### Introduction"
   ]
  },
  {
   "cell_type": "code",
   "execution_count": 44,
   "metadata": {},
   "outputs": [],
   "source": [
    "import numpy as np\n",
    "from numpy import loadtxt\n",
    "from xgboost import XGBClassifier # Extreme Gradient Boost Classifier\n",
    "from xgboost import plot_importance # Used to plot feature importances from pre-trained model\n",
    "from sklearn.model_selection import train_test_split\n",
    "from sklearn.metrics import accuracy_score\n",
    "import matplotlib.pyplot as plt\n",
    "%matplotlib inline"
   ]
  },
  {
   "cell_type": "code",
   "execution_count": 5,
   "metadata": {},
   "outputs": [
    {
     "name": "stdout",
     "output_type": "stream",
     "text": [
      "(768, 8)\n",
      "(768,)\n"
     ]
    }
   ],
   "source": [
    "data = loadtxt('pima.csv', delimiter = ',')\n",
    "X = data[:,0:8]\n",
    "y = data[:,8]\n",
    "\n",
    "print(X.shape)\n",
    "print(y.shape)"
   ]
  },
  {
   "cell_type": "code",
   "execution_count": 6,
   "metadata": {},
   "outputs": [],
   "source": [
    "seed = 7\n",
    "test_size = 0.3\n",
    "X_train, X_test, y_train, y_test= train_test_split(X,y, test_size = test_size, random_state = seed)"
   ]
  },
  {
   "cell_type": "code",
   "execution_count": 67,
   "metadata": {},
   "outputs": [],
   "source": [
    "model = XGBClassifier()\n",
    "model.fit(X_train,y_train)\n",
    "y_pred = model.predict(X_test)"
   ]
  },
  {
   "cell_type": "code",
   "execution_count": 65,
   "metadata": {},
   "outputs": [
    {
     "name": "stdout",
     "output_type": "stream",
     "text": [
      "Accuracy:  77.9220779221\n"
     ]
    }
   ],
   "source": [
    "predictions = [round(value) for value in y_pred]\n",
    "accuracy = accuracy_score(y_test, predictions)\n",
    "print(\"Accuracy: \", accuracy * 100.0)"
   ]
  },
  {
   "cell_type": "markdown",
   "metadata": {},
   "source": [
    " "
   ]
  },
  {
   "cell_type": "markdown",
   "metadata": {},
   "source": [
    "### In the next part we will look at how we can use early stopping to limit overfitting.\n",
    "The XGBoost model can evaluate and report on the performance on a test set for the model\n",
    "during training. It supports this capability by specifying both a test dataset and an evaluation\n",
    "metric on the call to model.fit() when training the model and specifying verbose output\n",
    "(verbose=True). For example, we can report on the binary classification error rate (error) on\n",
    "a standalone test set (eval set) while training an XGBoost model as follows:"
   ]
  },
  {
   "cell_type": "code",
   "execution_count": 66,
   "metadata": {},
   "outputs": [
    {
     "name": "stdout",
     "output_type": "stream",
     "text": [
      "[0]\tvalidation_0-logloss:0.660284\n",
      "Will train until validation_0-logloss hasn't improved in 10 rounds.\n",
      "[1]\tvalidation_0-logloss:0.633188\n",
      "[2]\tvalidation_0-logloss:0.611107\n",
      "[3]\tvalidation_0-logloss:0.592087\n",
      "[4]\tvalidation_0-logloss:0.577545\n",
      "[5]\tvalidation_0-logloss:0.565459\n",
      "[6]\tvalidation_0-logloss:0.552978\n",
      "[7]\tvalidation_0-logloss:0.544117\n",
      "[8]\tvalidation_0-logloss:0.534974\n",
      "[9]\tvalidation_0-logloss:0.529147\n",
      "[10]\tvalidation_0-logloss:0.523495\n",
      "[11]\tvalidation_0-logloss:0.519157\n",
      "[12]\tvalidation_0-logloss:0.513293\n",
      "[13]\tvalidation_0-logloss:0.508292\n",
      "[14]\tvalidation_0-logloss:0.50541\n",
      "[15]\tvalidation_0-logloss:0.502277\n",
      "[16]\tvalidation_0-logloss:0.500996\n",
      "[17]\tvalidation_0-logloss:0.498203\n",
      "[18]\tvalidation_0-logloss:0.496092\n",
      "[19]\tvalidation_0-logloss:0.494517\n",
      "[20]\tvalidation_0-logloss:0.492048\n",
      "[21]\tvalidation_0-logloss:0.490866\n",
      "[22]\tvalidation_0-logloss:0.489825\n",
      "[23]\tvalidation_0-logloss:0.489278\n",
      "[24]\tvalidation_0-logloss:0.487723\n",
      "[25]\tvalidation_0-logloss:0.487428\n",
      "[26]\tvalidation_0-logloss:0.486002\n",
      "[27]\tvalidation_0-logloss:0.486001\n",
      "[28]\tvalidation_0-logloss:0.483862\n",
      "[29]\tvalidation_0-logloss:0.481405\n",
      "[30]\tvalidation_0-logloss:0.48133\n",
      "[31]\tvalidation_0-logloss:0.482662\n",
      "[32]\tvalidation_0-logloss:0.482765\n",
      "[33]\tvalidation_0-logloss:0.481756\n",
      "[34]\tvalidation_0-logloss:0.480243\n",
      "[35]\tvalidation_0-logloss:0.481435\n",
      "[36]\tvalidation_0-logloss:0.480975\n",
      "[37]\tvalidation_0-logloss:0.482346\n",
      "[38]\tvalidation_0-logloss:0.483623\n",
      "[39]\tvalidation_0-logloss:0.484338\n",
      "[40]\tvalidation_0-logloss:0.483427\n",
      "[41]\tvalidation_0-logloss:0.484296\n",
      "[42]\tvalidation_0-logloss:0.483843\n",
      "[43]\tvalidation_0-logloss:0.483442\n",
      "[44]\tvalidation_0-logloss:0.482457\n",
      "Stopping. Best iteration:\n",
      "[34]\tvalidation_0-logloss:0.480243\n",
      "\n",
      "Accuracy:  77.9220779221\n"
     ]
    }
   ],
   "source": [
    "eval_set = [(X_test, y_test)]\n",
    "model.fit(X_train, y_train, eval_metric = \"logloss\", \n",
    "          eval_set = eval_set, verbose = True,\n",
    "          early_stopping_rounds = 10)\n",
    "\n",
    "y_pred = model.predict(X_test)\n",
    "predictions = [round(value) for value in y_pred]\n",
    "accuracy = accuracy_score(y_test, predictions)\n",
    "\n",
    "print(\"Accuracy: \", accuracy * 100.0)"
   ]
  },
  {
   "cell_type": "markdown",
   "metadata": {},
   "source": [
    "### In the next Part we will look at how we calculate the importance of features using XGBoost.\n",
    "A benefit of using ensembles of decision tree methods like gradient boosting is that they can\n",
    "automatically provide estimates of feature importance from a trained predictive model. A\n",
    "trained XGBoost model automatically calculates feature importance on your predictive modeling\n",
    "problem. These importance scores are available in the feature importances member variable\n",
    "of the trained model. For example, they can be printed directly as follows:"
   ]
  },
  {
   "cell_type": "code",
   "execution_count": 46,
   "metadata": {},
   "outputs": [
    {
     "name": "stdout",
     "output_type": "stream",
     "text": [
      "[ 0.04895105  0.24475524  0.05944056  0.08741259  0.04545455  0.18181819\n",
      "  0.16083916  0.17132868]\n"
     ]
    },
    {
     "data": {
      "image/png": "[encoded data removed]",
      "text/plain": [
       "<matplotlib.figure.Figure at 0x7f2e72ede8d0>"
      ]
     },
     "metadata": {},
     "output_type": "display_data"
    }
   ],
   "source": [
    "print(model.feature_importances_)\n",
    "plot_importance(model)\n",
    "plt.show()"
   ]
  },
  {
   "cell_type": "code",
   "execution_count": 60,
   "metadata": {},
   "outputs": [
    {
     "data": {
      "text/plain": [
       "XGBClassifier(base_score=0.5, booster='gbtree', colsample_bylevel=1,\n",
       "       colsample_bytree=1, gamma=0, learning_rate=0.1, max_delta_step=0,\n",
       "       max_depth=3, min_child_weight=1, missing=None, n_estimators=100,\n",
       "       n_jobs=1, nthread=None, objective='binary:logistic', random_state=0,\n",
       "       reg_alpha=0, reg_lambda=1, scale_pos_weight=1, seed=None,\n",
       "       silent=True, subsample=1)"
      ]
     },
     "execution_count": 60,
     "metadata": {},
     "output_type": "execute_result"
    }
   ],
   "source": [
    "model"
   ]
  },
  {
   "cell_type": "markdown",
   "metadata": {},
   "source": [
    "### In the next part we will look at heuristics for best configuring the gradient boosting algorithm.\n",
    "Gradient boosting is one of the most powerful techniques for applied machine learning and as\n",
    "such is quickly becoming one of the most popular. But how do you configure gradient boosting\n",
    "on your problem? A number of configuration heuristics were published in the original gradient\n",
    "boosting papers. They can be summarized as:\n",
    "<ol>\n",
    "    <li>Learning rate or shrinkage (learning rate in XGBoost) should be set to 0.1 or lower,\n",
    "and smaller values will require the addition of more trees. \n",
    "   </li>  \n",
    "    \n",
    "    <li>\n",
    "    The depth of trees (tree depth in XGBoost) should be configured in the range of 2-to-8,\n",
    "where not much benefit is seen with deeper trees.\n",
    "   </li>  \n",
    "   \n",
    "   <li>Row sampling (subsample in XGBoost) should be configured in the range of 30% to 80%\n",
    "of the training dataset, and compared to a value of 100% for no sampling.\n",
    "   </li>  \n",
    "   \n",
    "</ol>\n",
    "\n",
    "These are a good starting points when configuring your model. A good general configuration\n",
    "strategy is as follows:\n",
    "\n",
    "<ol>\n",
    "    <li>\n",
    "    Run the default configuration and review plots of the learning curves on the training and\n",
    "validation datasets.\n",
    "    </li>\n",
    "    \n",
    "     <li>\n",
    "   If the system is overlearning, decrease the learning rate and/or increase the number of\n",
    "trees.\n",
    "    </li>\n",
    "    \n",
    "     <li>\n",
    "    If the system is underlearning, speed the learning up to be more aggressive by increasing\n",
    "the learning rate and/or decreasing the number of trees.\n",
    "    </li>\n",
    "</ol>"
   ]
  },
  {
   "cell_type": "code",
   "execution_count": null,
   "metadata": {},
   "outputs": [],
   "source": []
  },
  {
   "cell_type": "markdown",
   "metadata": {},
   "source": [
    "### XGBoost Hyperparameter Tuning\n",
    "The scikit-learn framework provides the capability to search combinations of parameters. This\n",
    "capability is provided in the GridSearchCV class and can be used to discover the best way to\n",
    "configure the model for top performance on your problem. For example, we can define a grid of\n",
    "the number of trees (n estimators) and tree sizes (max depth) to evaluate by defining a grid\n",
    "as:\n",
    "<b>\n",
    "    <br>n_estimators = [50, 100, 150, 200]\n",
    "    <br>max_depth = [2, 4, 6, 8]\n",
    "    <br>param_grid = dict(max_depth=max_depth, n_estimators=n_estimators)\n",
    "</b>\n",
    "\n",
    "And then evaluate each combination of parameters using 10-fold cross-validation as:\n",
    "<b>\n",
    "    <br>kfold = StratifiedKFold(n_splits=10, shuffle=True, random_state=7)\n",
    "    <br>grid_search = GridSearchCV(model, param_grid, scoring=\"neg_log_loss\", n_jobs=-1, cv=kfold, verbose=1)\n",
    "    <br>result = grid_search.fit(X, label_encoded_y)\n",
    "<b>"
   ]
  },
  {
   "cell_type": "code",
   "execution_count": 47,
   "metadata": {},
   "outputs": [],
   "source": [
    "from sklearn.model_selection import GridSearchCV\n",
    "from sklearn.model_selection import StratifiedKFold"
   ]
  },
  {
   "cell_type": "code",
   "execution_count": 56,
   "metadata": {},
   "outputs": [],
   "source": [
    "model = XGBClassifier()\n",
    "\n",
    "learning_rate = [0.0001, 0.001, 0.01, 0.1, 0.2, 0.3]\n",
    "param_grid = dict(learning_rate=learning_rate)\n",
    "\n",
    "kfold = StratifiedKFold(n_splits=10, shuffle=True, random_state=7)\n",
    "grid_search = GridSearchCV(model, param_grid, scoring = \"neg_log_loss\", n_jobs=-1, cv=kfold)\n",
    "\n",
    "grid_result = grid_search.fit(X, y)"
   ]
  },
  {
   "cell_type": "code",
   "execution_count": 55,
   "metadata": {},
   "outputs": [
    {
     "name": "stdout",
     "output_type": "stream",
     "text": [
      "Best: -0.483304 using {'learning_rate': 0.1}\n",
      "-0.689811 (0.000475) with: {'learning_rate': 0.0001}\n",
      "-0.661827 (0.004625) with: {'learning_rate': 0.001}\n",
      "-0.531155 (0.028945) with: {'learning_rate': 0.01}\n",
      "-0.483304 (0.055151) with: {'learning_rate': 0.1}\n",
      "-0.515642 (0.061723) with: {'learning_rate': 0.2}\n",
      "-0.554158 (0.067557) with: {'learning_rate': 0.3}\n"
     ]
    }
   ],
   "source": [
    "# summarize results\n",
    "print(\"Best: %f using %s\" % (grid_result.best_score_, grid_result.best_params_))\n",
    "means = grid_result.cv_results_['mean_test_score']\n",
    "stds = grid_result.cv_results_['std_test_score']\n",
    "params = grid_result.cv_results_['params']\n",
    "\n",
    "for mean, stdev, param in zip(means, stds, params):\n",
    "    print(\"%f (%f) with: %r\" % (mean, stdev, param))"
   ]
  }
 ],
 "metadata": {
  "kernelspec": {
   "display_name": "Python 3",
   "language": "python",
   "name": "python3"
  },
  "language_info": {
   "codemirror_mode": {
    "name": "ipython",
    "version": 3
   },
   "file_extension": ".py",
   "mimetype": "text/x-python",
   "name": "python",
   "nbconvert_exporter": "python",
   "pygments_lexer": "ipython3",
   "version": "3.5.2"
  }
 },
 "nbformat": 4,
 "nbformat_minor": 2
}
