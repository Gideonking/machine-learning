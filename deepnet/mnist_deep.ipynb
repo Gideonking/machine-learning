{
 "cells": [
  {
   "cell_type": "code",
   "execution_count": 3,
   "metadata": {},
   "outputs": [
    {
     "name": "stdout",
     "output_type": "stream",
     "text": [
      "Extracting /tmp/data/train-images-idx3-ubyte.gz\n",
      "Extracting /tmp/data/train-labels-idx1-ubyte.gz\n",
      "Extracting /tmp/data/t10k-images-idx3-ubyte.gz\n",
      "Extracting /tmp/data/t10k-labels-idx1-ubyte.gz\n"
     ]
    }
   ],
   "source": [
    "\n",
    "'''\n",
    "input > hidden layer 1 (acvitation function) > weights hidden layer 2\n",
    "(activation function) -> weights -> output layer\n",
    "\n",
    "Compare the output to inteded output (cost or loss function(cross-entropy))\n",
    "optimization function (attempt to minimiza the costF(Adam, SGD, Adagrad))\n",
    "feed forward + backprop = Epoch\n",
    "'''\n",
    "import tensorflow as tf\n",
    "from tensorflow.examples.tutorials.mnist import input_data\n",
    "mnist = input_data.read_data_sets('/tmp/data/',one_hot=True)\n",
    "\n",
    "n_nodes_hl1 = 500\n",
    "n_nodes_hl2 = 500\n",
    "n_nodes_hl3 = 500\n",
    "\n",
    "n_classes = 10\n",
    "batch_size = 100\n",
    "\n",
    "x = tf.placeholder('float',[None, 784])\n",
    "y = tf.placeholder('float')\n",
    "\n",
    "def neural_network(data):\n",
    "\n",
    "    hidden_1_layer = {'weights':tf.variable(tf.random_normal([784, n_nodes_hl1])),\n",
    "               'biases':tf.variable(tf.random_normal(n_nodes_hl1))\n",
    "              }\n",
    "\n",
    "    hidden_2_layer = {'weights':tf.variable(tf.random_normal([n_nodes_hl1, n_nodes_hl2])),\n",
    "               'biases':tf.variable(tf.random_normal(n_nodes_hl2))\n",
    "              }\n",
    "\n",
    "    hidden_3_layer = {'weights':tf.variable(tf.random_normal([n_nodes_hl2, n_nodes_hl3 ])),\n",
    "               'biases':tf.variable(tf.random_normal(n_nodes_hl3))\n",
    "              }\n",
    "\n",
    "    output_layer = {'weights':tf.variable(tf.random_normal([n_nodes_hl3, n_classes])),\n",
    "               'biases':tf.variable(tf.random_normal(n_classes))\n",
    "              }\n",
    "    \n",
    "\n",
    "    #(input_data * weights) + biases\n",
    "\n",
    "    l1 = tf.add(matmul(data, hidden_1_layer['weights'] + hidden_1_layer['biases']))\n",
    "    l1 = tf.nn.relu(l1)\n",
    "\n",
    "    l2 = tf.add(matmul(l1, hidden_2_layer['weights'] + hidden_2_layer['biases']))\n",
    "    l2 = tf.nn.relu(l2)\n",
    "\n",
    "    l3 = tf.add(matmul(l2, hidden_3_layer['weights'] + hidden_3_layer['biases']))\n",
    "    l3 = tf.nn.relu(l3)\n",
    "\n",
    "    output = tf.add(l3, output_layer['weights'] + output_layer['biases'])\n",
    "    return output\n"
   ]
  },
  {
   "cell_type": "code",
   "execution_count": null,
   "metadata": {},
   "outputs": [],
   "source": []
  }
 ],
 "metadata": {
  "kernelspec": {
   "display_name": "Python 3",
   "language": "python",
   "name": "python3"
  },
  "language_info": {
   "codemirror_mode": {
    "name": "ipython",
    "version": 3
   },
   "file_extension": ".py",
   "mimetype": "text/x-python",
   "name": "python",
   "nbconvert_exporter": "python",
   "pygments_lexer": "ipython3",
   "version": "3.5.2"
  }
 },
 "nbformat": 4,
 "nbformat_minor": 2
}
